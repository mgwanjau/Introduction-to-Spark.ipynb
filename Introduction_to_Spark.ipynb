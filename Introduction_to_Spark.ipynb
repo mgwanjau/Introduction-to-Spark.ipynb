{
  "nbformat": 4,
  "nbformat_minor": 0,
  "metadata": {
    "colab": {
      "provenance": []
    },
    "kernelspec": {
      "name": "python3",
      "display_name": "Python 3"
    },
    "language_info": {
      "name": "python"
    }
  },
  "cells": [
    {
      "cell_type": "code",
      "execution_count": 1,
      "metadata": {
        "id": "uM2eQEVcDsTV"
      },
      "outputs": [],
      "source": [
        "import pandas as pd"
      ]
    },
    {
      "cell_type": "code",
      "source": [
        "url = 'https://bit.ly/3pmchka'\n",
        "df = pd.read_csv(url)\n",
        "\n",
        "print(df.head())"
      ],
      "metadata": {
        "colab": {
          "base_uri": "https://localhost:8080/"
        },
        "id": "Rnv-pTEMEQpN",
        "outputId": "40cdc80b-3af5-44b1-bb4e-63384f5355c3"
      },
      "execution_count": 2,
      "outputs": [
        {
          "output_type": "stream",
          "name": "stdout",
          "text": [
            "         Date       Open       High        Low      Close    Volume  Adj Close\n",
            "0  2012-01-03  59.970001  61.060001  59.869999  60.330002  12668800  52.619235\n",
            "1  2012-01-04  60.209999  60.349998  59.470001  59.709999   9593300  52.078475\n",
            "2  2012-01-05  59.349998  59.619999  58.369999  59.419998  12768200  51.825539\n",
            "3  2012-01-06  59.419998  59.450001  58.869999  59.000000   8069400  51.459220\n",
            "4  2012-01-09  59.029999  59.549999  58.919998  59.180000   6679300  51.616215\n"
          ]
        }
      ]
    },
    {
      "cell_type": "code",
      "source": [
        "# Installing pyspark\n",
        "# ---\n",
        "#\n",
        "!pip install pyspark"
      ],
      "metadata": {
        "colab": {
          "base_uri": "https://localhost:8080/"
        },
        "id": "nYohhMrxEZ51",
        "outputId": "d6fdc0fd-754d-48ae-9afc-f86ffb28f161"
      },
      "execution_count": 3,
      "outputs": [
        {
          "output_type": "stream",
          "name": "stdout",
          "text": [
            "Looking in indexes: https://pypi.org/simple, https://us-python.pkg.dev/colab-wheels/public/simple/\n",
            "Collecting pyspark\n",
            "  Downloading pyspark-3.4.0.tar.gz (310.8 MB)\n",
            "\u001b[2K     \u001b[90m━━━━━━━━━━━━━━━━━━━━━━━━━━━━━━━━━━━━━━━\u001b[0m \u001b[32m310.8/310.8 MB\u001b[0m \u001b[31m4.3 MB/s\u001b[0m eta \u001b[36m0:00:00\u001b[0m\n",
            "\u001b[?25h  Preparing metadata (setup.py) ... \u001b[?25l\u001b[?25hdone\n",
            "Requirement already satisfied: py4j==0.10.9.7 in /usr/local/lib/python3.10/dist-packages (from pyspark) (0.10.9.7)\n",
            "Building wheels for collected packages: pyspark\n",
            "  Building wheel for pyspark (setup.py) ... \u001b[?25l\u001b[?25hdone\n",
            "  Created wheel for pyspark: filename=pyspark-3.4.0-py2.py3-none-any.whl size=311317145 sha256=bc1bdef0cda9698171ad4f035792fa3a454ebc51ea3086719577f37efbeabc50\n",
            "  Stored in directory: /root/.cache/pip/wheels/7b/1b/4b/3363a1d04368e7ff0d408e57ff57966fcdf00583774e761327\n",
            "Successfully built pyspark\n",
            "Installing collected packages: pyspark\n",
            "Successfully installed pyspark-3.4.0\n"
          ]
        }
      ]
    },
    {
      "cell_type": "code",
      "source": [
        "# Next, we run a local spark session\n",
        "\n",
        "from pyspark.sql import SparkSession\n",
        "spark = SparkSession.builder.master(\"local[*]\").getOrCreate()\n",
        "sc = spark.sparkContext"
      ],
      "metadata": {
        "id": "J4vAhpRRFCcs"
      },
      "execution_count": 4,
      "outputs": []
    },
    {
      "cell_type": "code",
      "source": [
        "#Importing the required libraries\n",
        "\n",
        "from pyspark.sql import SparkSession\n",
        "from pyspark.sql import SQLContext\n",
        "\n",
        "# Start a Spark session\n",
        "spark = SparkSession.builder.appName('SafaricomStockAnalysis').getOrCreate()\n",
        "\n",
        "# Create SQL context object\n",
        "sqlCtx = SQLContext(spark.sparkContext)\n",
        "\n",
        "# Read in the data using the SQL context object\n",
        "df = sqlCtx.read.csv('saf_stock.csv', header=True, inferSchema=True)\n"
      ],
      "metadata": {
        "id": "bRQf4d7xFcj9"
      },
      "execution_count": 6,
      "outputs": []
    },
    {
      "cell_type": "code",
      "source": [
        "df.columns"
      ],
      "metadata": {
        "colab": {
          "base_uri": "https://localhost:8080/"
        },
        "id": "Vwjk4VJkHBIi",
        "outputId": "1eb3e9cb-5814-408a-a003-17897bbc7d8e"
      },
      "execution_count": 7,
      "outputs": [
        {
          "output_type": "execute_result",
          "data": {
            "text/plain": [
              "['Date', 'Open', 'High', 'Low', 'Close', 'Volume', 'Adj Close']"
            ]
          },
          "metadata": {},
          "execution_count": 7
        }
      ]
    },
    {
      "cell_type": "code",
      "source": [
        "df.printSchema()"
      ],
      "metadata": {
        "colab": {
          "base_uri": "https://localhost:8080/"
        },
        "id": "mT0z2fVKHGu7",
        "outputId": "cc3bde2b-34e3-47b7-90d4-56708acb6000"
      },
      "execution_count": 8,
      "outputs": [
        {
          "output_type": "stream",
          "name": "stdout",
          "text": [
            "root\n",
            " |-- Date: date (nullable = true)\n",
            " |-- Open: double (nullable = true)\n",
            " |-- High: double (nullable = true)\n",
            " |-- Low: double (nullable = true)\n",
            " |-- Close: double (nullable = true)\n",
            " |-- Volume: integer (nullable = true)\n",
            " |-- Adj Close: double (nullable = true)\n",
            "\n"
          ]
        }
      ]
    },
    {
      "cell_type": "code",
      "source": [
        "#Show the first 5 rows\n",
        "df.show(5)"
      ],
      "metadata": {
        "colab": {
          "base_uri": "https://localhost:8080/"
        },
        "id": "2OVzs33JHK9U",
        "outputId": "115c9c9f-7604-414c-8fbd-eb938e3f3085"
      },
      "execution_count": 9,
      "outputs": [
        {
          "output_type": "stream",
          "name": "stdout",
          "text": [
            "+----------+------------------+---------+---------+------------------+--------+------------------+\n",
            "|      Date|              Open|     High|      Low|             Close|  Volume|         Adj Close|\n",
            "+----------+------------------+---------+---------+------------------+--------+------------------+\n",
            "|2012-01-03|         59.970001|61.060001|59.869999|         60.330002|12668800|52.619234999999996|\n",
            "|2012-01-04|60.209998999999996|60.349998|59.470001|59.709998999999996| 9593300|         52.078475|\n",
            "|2012-01-05|         59.349998|59.619999|58.369999|         59.419998|12768200|         51.825539|\n",
            "|2012-01-06|         59.419998|59.450001|58.869999|              59.0| 8069400|          51.45922|\n",
            "|2012-01-09|         59.029999|59.549999|58.919998|             59.18| 6679300|51.616215000000004|\n",
            "+----------+------------------+---------+---------+------------------+--------+------------------+\n",
            "only showing top 5 rows\n",
            "\n"
          ]
        }
      ]
    },
    {
      "cell_type": "code",
      "source": [
        "#Use the describe method to learn about the data frame\n",
        "df.describe().show()"
      ],
      "metadata": {
        "colab": {
          "base_uri": "https://localhost:8080/"
        },
        "id": "Q-VXRH87HShS",
        "outputId": "2afd1c29-14d6-45ac-8cd1-22a42912aba0"
      },
      "execution_count": 10,
      "outputs": [
        {
          "output_type": "stream",
          "name": "stdout",
          "text": [
            "+-------+------------------+-----------------+-----------------+-----------------+-----------------+-----------------+\n",
            "|summary|              Open|             High|              Low|            Close|           Volume|        Adj Close|\n",
            "+-------+------------------+-----------------+-----------------+-----------------+-----------------+-----------------+\n",
            "|  count|              1258|             1258|             1258|             1258|             1258|             1258|\n",
            "|   mean| 72.35785375357709|72.83938807631165| 71.9186009594594|72.38844998012726|8222093.481717011|67.23883848728146|\n",
            "| stddev|  6.76809024470826|6.768186808159218|6.744075756255496|6.756859163732991|  4519780.8431556|6.722609449996857|\n",
            "|    min|56.389998999999996|        57.060001|        56.299999|        56.419998|          2094900|        50.363689|\n",
            "|    max|         90.800003|        90.970001|            89.25|        90.470001|         80898100|84.91421600000001|\n",
            "+-------+------------------+-----------------+-----------------+-----------------+-----------------+-----------------+\n",
            "\n"
          ]
        }
      ]
    },
    {
      "cell_type": "code",
      "source": [
        "# Import preparation modules\n",
        "import pyspark.sql.functions as F\n",
        "from pyspark.sql.functions import lit,when,col,expr,round\n",
        "\n",
        "# Create a new data frame and round off the columns to two decimal places while adding the new HV column\n",
        "\n",
        "df_prepared=(\n",
        "df.withColumn('HV',expr(\"High/Volume\"))#Create the new column HV which is a ratio if High to Volume ratio of stocks traded\\\n",
        "    .withColumn('Open', F.format_number('Open', 2))# Round the Open Column to two decimal places\\\n",
        "    .withColumn('High', F.format_number('High', 2))# Round the high column to two decimal places\\\n",
        "    .withColumn('Low', F.format_number('Low', 2))# Round the Low column to two decimal places\\\n",
        "    .withColumn('Close', F.format_number('Close', 2))# Round the close column to two decimal places\\\n",
        "    .withColumn('Volume', round('Volume', 2))#round the volume column to two decimal places.Round function used in this case to solve comma issues\\\n",
        "    .withColumn('Adj Close', F.format_number('Adj Close', 2))# Round the close column to two decimal places\\\n",
        "    .withColumn('HV',F.format_number('HV', 10)))# Round the new HV column to 10 decimal places\n",
        "df_prepared.show(5)"
      ],
      "metadata": {
        "colab": {
          "base_uri": "https://localhost:8080/"
        },
        "id": "FbMM0ANYHozr",
        "outputId": "c547587d-53af-4abc-ae2b-e231d2345002"
      },
      "execution_count": 12,
      "outputs": [
        {
          "output_type": "stream",
          "name": "stdout",
          "text": [
            "+----------+-----+-----+-----+-----+--------+---------+------------+\n",
            "|      Date| Open| High|  Low|Close|  Volume|Adj Close|          HV|\n",
            "+----------+-----+-----+-----+-----+--------+---------+------------+\n",
            "|2012-01-03|59.97|61.06|59.87|60.33|12668800|    52.62|0.0000048197|\n",
            "|2012-01-04|60.21|60.35|59.47|59.71| 9593300|    52.08|0.0000062908|\n",
            "|2012-01-05|59.35|59.62|58.37|59.42|12768200|    51.83|0.0000046694|\n",
            "|2012-01-06|59.42|59.45|58.87|59.00| 8069400|    51.46|0.0000073673|\n",
            "|2012-01-09|59.03|59.55|58.92|59.18| 6679300|    51.62|0.0000089156|\n",
            "+----------+-----+-----+-----+-----+--------+---------+------------+\n",
            "only showing top 5 rows\n",
            "\n"
          ]
        }
      ]
    },
    {
      "cell_type": "code",
      "source": [
        "#Register a table in SQL\n",
        "table = df_prepared.registerTempTable(\"Data_Analytics\")"
      ],
      "metadata": {
        "colab": {
          "base_uri": "https://localhost:8080/"
        },
        "id": "4Z6FRLLnIiiD",
        "outputId": "3bedbb56-b409-42d2-ea94-4b06eaf347ba"
      },
      "execution_count": 13,
      "outputs": [
        {
          "output_type": "stream",
          "name": "stderr",
          "text": [
            "/usr/local/lib/python3.10/dist-packages/pyspark/sql/dataframe.py:330: FutureWarning: Deprecated in 2.0, use createOrReplaceTempView instead.\n",
            "  warnings.warn(\"Deprecated in 2.0, use createOrReplaceTempView instead.\", FutureWarning)\n"
          ]
        }
      ]
    },
    {
      "cell_type": "code",
      "source": [
        "#Confirm that SAF has been registered\n",
        "tables = sqlCtx.tableNames()\n",
        "\n",
        "print(tables)"
      ],
      "metadata": {
        "colab": {
          "base_uri": "https://localhost:8080/"
        },
        "id": "kN3iEyNSIo77",
        "outputId": "1ef97e01-5827-4bb6-cc83-aef2ff601236"
      },
      "execution_count": 14,
      "outputs": [
        {
          "output_type": "stream",
          "name": "stdout",
          "text": [
            "['data_analytics']\n"
          ]
        }
      ]
    },
    {
      "cell_type": "code",
      "source": [
        "#Question 1: What day had the peak high in price?\n",
        "q = \"SELECT \\\n",
        "         Date,max(High) AS Peak_High_Price \\\n",
        "     FROM Data_Analytics GROUP BY Date \\\n",
        "    ORDER BY Peak_High_Price DESC LIMIT 1 \"\n",
        "sqlCtx.sql(q).show()"
      ],
      "metadata": {
        "colab": {
          "base_uri": "https://localhost:8080/"
        },
        "id": "6MamgVb0ItAe",
        "outputId": "479e0ac2-b059-4ff0-cc9d-ae21c4a84e27"
      },
      "execution_count": 15,
      "outputs": [
        {
          "output_type": "stream",
          "name": "stdout",
          "text": [
            "+----------+---------------+\n",
            "|      Date|Peak_High_Price|\n",
            "+----------+---------------+\n",
            "|2015-01-13|          90.97|\n",
            "+----------+---------------+\n",
            "\n"
          ]
        }
      ]
    },
    {
      "cell_type": "code",
      "source": [
        "#Question 2: What is the mean of the close month?\n",
        "q = \"\\\n",
        "SELECT\\\n",
        "    MEAN(Close) AS MEAN\\\n",
        "        FROM Data_Analytics\"\n",
        "\n",
        "sqlCtx.sql(q).show()"
      ],
      "metadata": {
        "colab": {
          "base_uri": "https://localhost:8080/"
        },
        "id": "jKSlhbjrJcIE",
        "outputId": "1082df27-d388-4d2f-91a9-e10b311a7d84"
      },
      "execution_count": 16,
      "outputs": [
        {
          "output_type": "stream",
          "name": "stdout",
          "text": [
            "+-----------------+\n",
            "|             MEAN|\n",
            "+-----------------+\n",
            "|72.38844992050863|\n",
            "+-----------------+\n",
            "\n"
          ]
        }
      ]
    },
    {
      "cell_type": "code",
      "source": [
        "# What is the max and min of the volume column\n",
        "q = \"SELECT\\\n",
        "     MIN(Volume) Min_Volume,MAX(Volume) Max_Volume\\\n",
        "         FROM Data_Analytics\\\n",
        " \"\n",
        "\n",
        "sqlCtx.sql(q).show()"
      ],
      "metadata": {
        "colab": {
          "base_uri": "https://localhost:8080/"
        },
        "id": "ICuzuz-EJkga",
        "outputId": "b5cd7316-2d79-4372-b16a-884e847ef839"
      },
      "execution_count": 17,
      "outputs": [
        {
          "output_type": "stream",
          "name": "stdout",
          "text": [
            "+----------+----------+\n",
            "|Min_Volume|Max_Volume|\n",
            "+----------+----------+\n",
            "|   2094900|  80898100|\n",
            "+----------+----------+\n",
            "\n"
          ]
        }
      ]
    },
    {
      "cell_type": "code",
      "source": [
        "# How many days was the close lower than 60 dollars?\n",
        "q = \"SELECT\\\n",
        "    COUNT(Date)\\\n",
        "    FROM Data_Analytics\\\n",
        "    WHERE Close <= 60\\\n",
        "    \"\n",
        "sqlCtx.sql(q).show()"
      ],
      "metadata": {
        "colab": {
          "base_uri": "https://localhost:8080/"
        },
        "id": "VQBNeNsDJ799",
        "outputId": "54b52202-cfa3-4ba5-c82d-08cf1c814938"
      },
      "execution_count": 18,
      "outputs": [
        {
          "output_type": "stream",
          "name": "stdout",
          "text": [
            "+-----------+\n",
            "|count(Date)|\n",
            "+-----------+\n",
            "|        116|\n",
            "+-----------+\n",
            "\n"
          ]
        }
      ]
    },
    {
      "cell_type": "code",
      "source": [
        "#What percentage of the time was the High greater than 80 Dollars\n",
        "# Total column entries were computed earlier. An improved querry of this is to use Common Table Expressions for this querry\n",
        "\n",
        "q = \"SELECT\\\n",
        "     ROUND((COUNT(High)/1258*100),2) Percentage_Greater_Than_80\\\n",
        "         FROM Data_Analytics\\\n",
        "         WHERE High >= 80\\\n",
        "            \"\n",
        "\n",
        "sqlCtx.sql(q).show()"
      ],
      "metadata": {
        "colab": {
          "base_uri": "https://localhost:8080/"
        },
        "id": "cCojbibWKFek",
        "outputId": "02aa1a69-d9fa-404b-e3bd-2fda72df068f"
      },
      "execution_count": 19,
      "outputs": [
        {
          "output_type": "stream",
          "name": "stdout",
          "text": [
            "+--------------------------+\n",
            "|Percentage_Greater_Than_80|\n",
            "+--------------------------+\n",
            "|                      9.14|\n",
            "+--------------------------+\n",
            "\n"
          ]
        }
      ]
    },
    {
      "cell_type": "code",
      "source": [
        "# What is the Pearson correlation between High and Volume\n",
        "\n",
        "q = \"SELECT ROUND(corr(High,Volume),2) Pearson_Correlation\\\n",
        "          FROM Data_Analytics\"\n",
        "\n",
        "sqlCtx.sql(q).show()"
      ],
      "metadata": {
        "colab": {
          "base_uri": "https://localhost:8080/"
        },
        "id": "OmBpdr5dKJsS",
        "outputId": "3b25da2c-34ed-4f3b-ef20-f389583ff11f"
      },
      "execution_count": 20,
      "outputs": [
        {
          "output_type": "stream",
          "name": "stdout",
          "text": [
            "+-------------------+\n",
            "|Pearson_Correlation|\n",
            "+-------------------+\n",
            "|              -0.34|\n",
            "+-------------------+\n",
            "\n"
          ]
        }
      ]
    },
    {
      "cell_type": "code",
      "source": [
        "#What is the Max High per Year\n",
        "\n",
        "q = \"SELECT\\\n",
        "     EXTRACT(YEAR FROM Date) Year,\\\n",
        "     MAX(High) Max_High\\\n",
        "     FROM Data_Analytics\\\n",
        "     GROUP BY Year\\\n",
        "     ORDER BY Max_High DESC\"\n",
        "sqlCtx.sql(q).show()"
      ],
      "metadata": {
        "colab": {
          "base_uri": "https://localhost:8080/"
        },
        "id": "FISW2PLmKNVS",
        "outputId": "9ed7c8e5-1e6e-4a73-afd6-b44993e7e183"
      },
      "execution_count": 21,
      "outputs": [
        {
          "output_type": "stream",
          "name": "stdout",
          "text": [
            "+----+--------+\n",
            "|Year|Max_High|\n",
            "+----+--------+\n",
            "|2015|   90.97|\n",
            "|2014|   88.09|\n",
            "|2013|   81.37|\n",
            "|2012|   77.60|\n",
            "|2016|   75.19|\n",
            "+----+--------+\n",
            "\n"
          ]
        }
      ]
    },
    {
      "cell_type": "code",
      "source": [
        "#What is the average Close for each Calendar Month?\n",
        "q = \"SELECT\\\n",
        "    EXTRACT(MONTH FROM Date) Month,\\\n",
        "    ROUND(AVG(Close),2) Avg_Close\\\n",
        "    FROM Data_Analytics\\\n",
        "    GROUP BY Month\\\n",
        "    ORDER BY Month ASC\"\n",
        "\n",
        "sqlCtx.sql(q).show()"
      ],
      "metadata": {
        "colab": {
          "base_uri": "https://localhost:8080/"
        },
        "id": "NAvXGoukKRti",
        "outputId": "7ccf4b16-713e-4854-8dda-1958b1d7f919"
      },
      "execution_count": 22,
      "outputs": [
        {
          "output_type": "stream",
          "name": "stdout",
          "text": [
            "+-----+---------+\n",
            "|Month|Avg_Close|\n",
            "+-----+---------+\n",
            "|    1|    71.45|\n",
            "|    2|    71.31|\n",
            "|    3|    71.78|\n",
            "|    4|    72.97|\n",
            "|    5|    72.31|\n",
            "|    6|     72.5|\n",
            "|    7|    74.44|\n",
            "|    8|    73.03|\n",
            "|    9|    72.18|\n",
            "|   10|    71.58|\n",
            "|   11|    72.11|\n",
            "|   12|    72.85|\n",
            "+-----+---------+\n",
            "\n"
          ]
        }
      ]
    },
    {
      "cell_type": "code",
      "source": [
        "# What is the Pearson correlation between High and Volume\n",
        "\n",
        "q = \"SELECT ROUND(corr(High,Volume),2) Pearson_Correlation\\\n",
        "          FROM Data_Analytics\"\n",
        "\n",
        "sqlCtx.sql(q).show()"
      ],
      "metadata": {
        "colab": {
          "base_uri": "https://localhost:8080/"
        },
        "id": "uPwJBtFHKWha",
        "outputId": "52b0e42c-1cb3-451d-da62-d62a28832c1e"
      },
      "execution_count": 23,
      "outputs": [
        {
          "output_type": "stream",
          "name": "stdout",
          "text": [
            "+-------------------+\n",
            "|Pearson_Correlation|\n",
            "+-------------------+\n",
            "|              -0.34|\n",
            "+-------------------+\n",
            "\n"
          ]
        }
      ]
    },
    {
      "cell_type": "code",
      "source": [
        "#What is the Max High per Year\n",
        "q = \"SELECT\\\n",
        "     EXTRACT(YEAR FROM Date) Year,\\\n",
        "     MAX(High) Max_High\\\n",
        "     FROM Data_Analytics\\\n",
        "     GROUP BY Year\\\n",
        "     ORDER BY Max_High DESC\"\n",
        "sqlCtx.sql(q).show()"
      ],
      "metadata": {
        "colab": {
          "base_uri": "https://localhost:8080/"
        },
        "id": "zt3WMy2dKqXa",
        "outputId": "0700a2e6-4a7f-4ca4-f198-056123835875"
      },
      "execution_count": 24,
      "outputs": [
        {
          "output_type": "stream",
          "name": "stdout",
          "text": [
            "+----+--------+\n",
            "|Year|Max_High|\n",
            "+----+--------+\n",
            "|2015|   90.97|\n",
            "|2014|   88.09|\n",
            "|2013|   81.37|\n",
            "|2012|   77.60|\n",
            "|2016|   75.19|\n",
            "+----+--------+\n",
            "\n"
          ]
        }
      ]
    },
    {
      "cell_type": "code",
      "source": [
        "#What is the average Close for each Calendar Month?\n",
        "q = \"SELECT\\\n",
        "    EXTRACT(MONTH FROM Date) Month,\\\n",
        "    ROUND(AVG(Close),2) Avg_Close\\\n",
        "    FROM Data_Analytics\\\n",
        "    GROUP BY Month\\\n",
        "    ORDER BY Month ASC\"\n",
        "\n",
        "sqlCtx.sql(q).show()"
      ],
      "metadata": {
        "colab": {
          "base_uri": "https://localhost:8080/"
        },
        "id": "_7Tww_DMK35M",
        "outputId": "12c2ef5a-1fd0-48d0-e21e-de2e0b706981"
      },
      "execution_count": 25,
      "outputs": [
        {
          "output_type": "stream",
          "name": "stdout",
          "text": [
            "+-----+---------+\n",
            "|Month|Avg_Close|\n",
            "+-----+---------+\n",
            "|    1|    71.45|\n",
            "|    2|    71.31|\n",
            "|    3|    71.78|\n",
            "|    4|    72.97|\n",
            "|    5|    72.31|\n",
            "|    6|     72.5|\n",
            "|    7|    74.44|\n",
            "|    8|    73.03|\n",
            "|    9|    72.18|\n",
            "|   10|    71.58|\n",
            "|   11|    72.11|\n",
            "|   12|    72.85|\n",
            "+-----+---------+\n",
            "\n"
          ]
        }
      ]
    }
  ]
}